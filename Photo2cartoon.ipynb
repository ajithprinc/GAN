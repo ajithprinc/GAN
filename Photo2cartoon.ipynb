{
  "nbformat": 4,
  "nbformat_minor": 0,
  "metadata": {
    "colab": {
      "name": "Photo2cartoon",
      "provenance": [],
      "collapsed_sections": [],
      "authorship_tag": "ABX9TyNK41wGGtVO63sCbH3251vS",
      "include_colab_link": true
    },
    "kernelspec": {
      "name": "python3",
      "display_name": "Python 3"
    },
    "language_info": {
      "name": "python"
    }
  },
  "cells": [
    {
      "cell_type": "markdown",
      "metadata": {
        "id": "view-in-github",
        "colab_type": "text"
      },
      "source": [
        "<a href=\"https://colab.research.google.com/github/ajithprinc/GAN/blob/main/Photo2cartoon.ipynb\" target=\"_parent\"><img src=\"https://colab.research.google.com/assets/colab-badge.svg\" alt=\"Open In Colab\"/></a>"
      ]
    },
    {
      "cell_type": "code",
      "metadata": {
        "colab": {
          "base_uri": "https://localhost:8080/"
        },
        "id": "Jc9AfxeQfL1l",
        "outputId": "9af28527-8ee3-46e1-dad3-a0fa649aae48"
      },
      "source": [
        "!git clone https://github.com/minivision-ai/photo2cartoon.git\n"
      ],
      "execution_count": 2,
      "outputs": [
        {
          "output_type": "stream",
          "text": [
            "fatal: destination path 'photo2cartoon' already exists and is not an empty directory.\n"
          ],
          "name": "stdout"
        }
      ]
    },
    {
      "cell_type": "code",
      "metadata": {
        "colab": {
          "base_uri": "https://localhost:8080/"
        },
        "id": "lDhAwKSFfMqf",
        "outputId": "ea3f4f10-e3d7-4c5b-c261-9293fd079ab1"
      },
      "source": [
        "cd ./photo2cartoon"
      ],
      "execution_count": 3,
      "outputs": [
        {
          "output_type": "stream",
          "text": [
            "/content/photo2cartoon\n"
          ],
          "name": "stdout"
        }
      ]
    },
    {
      "cell_type": "code",
      "metadata": {
        "colab": {
          "base_uri": "https://localhost:8080/"
        },
        "id": "NPXyjG0bfPTe",
        "outputId": "f702bebb-72ba-4b77-c659-22495a10d6cc"
      },
      "source": [
        "!gdown --id 1lsQS8hOCquMFKJFhK_z-n03ixWGkjT2P\n",
        "!unzip /content/photo2carbtoon/photo2cartoon_resources_20200504.zip"
      ],
      "execution_count": 6,
      "outputs": [
        {
          "output_type": "stream",
          "text": [
            "Downloading...\n",
            "From: https://drive.google.com/uc?id=1lsQS8hOCquMFKJFhK_z-n03ixWGkjT2P\n",
            "To: /content/photo2cartoon/photo2cartoon_resources_20200504.zip\n",
            "227MB [00:01, 144MB/s]\n"
          ],
          "name": "stdout"
        }
      ]
    },
    {
      "cell_type": "code",
      "metadata": {
        "id": "rf0U1_Ygf6me"
      },
      "source": [
        "import shutil"
      ],
      "execution_count": 8,
      "outputs": []
    },
    {
      "cell_type": "code",
      "metadata": {
        "colab": {
          "base_uri": "https://localhost:8080/",
          "height": 35
        },
        "id": "tSp1_N0df8KT",
        "outputId": "2e73f631-ee69-417d-8d88-d181eb31c386"
      },
      "source": [
        "shutil.copy2('/content/photo2cartoon/photo2cartoon_resources_20200504/photo2cartoon_weights.pt','/content/photo2cartoon/models')"
      ],
      "execution_count": 9,
      "outputs": [
        {
          "output_type": "execute_result",
          "data": {
            "application/vnd.google.colaboratory.intrinsic+json": {
              "type": "string"
            },
            "text/plain": [
              "'/content/photo2cartoon/models/photo2cartoon_weights.pt'"
            ]
          },
          "metadata": {
            "tags": []
          },
          "execution_count": 9
        }
      ]
    },
    {
      "cell_type": "code",
      "metadata": {
        "colab": {
          "base_uri": "https://localhost:8080/",
          "height": 35
        },
        "id": "Bpjdk1pfgOT_",
        "outputId": "4318cb18-a33a-41ad-c631-50a74265fdec"
      },
      "source": [
        "shutil.copy2('/content/photo2cartoon/photo2cartoon_resources_20200504/seg_model_384.pb','/content/photo2cartoon/utils')"
      ],
      "execution_count": 10,
      "outputs": [
        {
          "output_type": "execute_result",
          "data": {
            "application/vnd.google.colaboratory.intrinsic+json": {
              "type": "string"
            },
            "text/plain": [
              "'/content/photo2cartoon/utils/seg_model_384.pb'"
            ]
          },
          "metadata": {
            "tags": []
          },
          "execution_count": 10
        }
      ]
    },
    {
      "cell_type": "code",
      "metadata": {
        "colab": {
          "base_uri": "https://localhost:8080/",
          "height": 35
        },
        "id": "KLB3q65xgY9m",
        "outputId": "95698db5-8cfb-4937-d8de-71b16e2fe960"
      },
      "source": [
        "shutil.copy2('/content/photo2cartoon/photo2cartoon_resources_20200504/model_mobilefacenet.pth','/content/photo2cartoon/models')"
      ],
      "execution_count": 11,
      "outputs": [
        {
          "output_type": "execute_result",
          "data": {
            "application/vnd.google.colaboratory.intrinsic+json": {
              "type": "string"
            },
            "text/plain": [
              "'/content/photo2cartoon/models/model_mobilefacenet.pth'"
            ]
          },
          "metadata": {
            "tags": []
          },
          "execution_count": 11
        }
      ]
    },
    {
      "cell_type": "code",
      "metadata": {
        "colab": {
          "base_uri": "https://localhost:8080/",
          "height": 106
        },
        "id": "Ongx8pDIguh5",
        "outputId": "6b08a680-b16a-4395-fe70-412cc5e5ccb6"
      },
      "source": [
        "!gdown --id 1PhwKDUhiq8p-UqrfHCqj257QnqBWD523\n",
        "shutil.copy2('/content/photo2cartoon/photo2cartoon_weights.onnx','/content/photo2cartoon/models')"
      ],
      "execution_count": 13,
      "outputs": [
        {
          "output_type": "stream",
          "text": [
            "Downloading...\n",
            "From: https://drive.google.com/uc?id=1PhwKDUhiq8p-UqrfHCqj257QnqBWD523\n",
            "To: /content/photo2cartoon/photo2cartoon_weights.onnx\n",
            "\r0.00B [00:00, ?B/s]\r15.3MB [00:00, 133MB/s]\n"
          ],
          "name": "stdout"
        },
        {
          "output_type": "execute_result",
          "data": {
            "application/vnd.google.colaboratory.intrinsic+json": {
              "type": "string"
            },
            "text/plain": [
              "'/content/photo2cartoon/models/photo2cartoon_weights.onnx'"
            ]
          },
          "metadata": {
            "tags": []
          },
          "execution_count": 13
        }
      ]
    },
    {
      "cell_type": "code",
      "metadata": {
        "colab": {
          "base_uri": "https://localhost:8080/"
        },
        "id": "wsxgKMkfg9WN",
        "outputId": "ae9b64aa-10e6-47d6-beeb-202745df0f4d"
      },
      "source": [
        "!python test.py --photo_path ./images/photo_test.jpg --save_path ./images/cartoon_result.png\n"
      ],
      "execution_count": 15,
      "outputs": [
        {
          "output_type": "stream",
          "text": [
            "Traceback (most recent call last):\n",
            "  File \"test.py\", line 5, in <module>\n",
            "    from models import ResnetGenerator\n",
            "  File \"/content/photo2cartoon/models/__init__.py\", line 2, in <module>\n",
            "    from .UGATIT_sadalin_hourglass import UgatitSadalinHourglass\n",
            "  File \"/content/photo2cartoon/models/UGATIT_sadalin_hourglass.py\", line 7, in <module>\n",
            "    from utils import *\n",
            "  File \"/content/photo2cartoon/utils/__init__.py\", line 1, in <module>\n",
            "    from .preprocess import Preprocess\n",
            "  File \"/content/photo2cartoon/utils/preprocess.py\", line 1, in <module>\n",
            "    from .face_detect import FaceDetect\n",
            "  File \"/content/photo2cartoon/utils/face_detect.py\", line 4, in <module>\n",
            "    import face_alignment\n",
            "ModuleNotFoundError: No module named 'face_alignment'\n"
          ],
          "name": "stdout"
        }
      ]
    },
    {
      "cell_type": "code",
      "metadata": {
        "id": "UubLBNw7hCmq"
      },
      "source": [
        ""
      ],
      "execution_count": null,
      "outputs": []
    }
  ]
}